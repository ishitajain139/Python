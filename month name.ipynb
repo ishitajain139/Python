{
 "cells": [
  {
   "cell_type": "code",
   "execution_count": 3,
   "metadata": {},
   "outputs": [
    {
     "name": "stdout",
     "output_type": "stream",
     "text": [
      "list of months: january, february, march, april, may, june, july, august, september, octoer, november, december\n",
      "input the name of month:january\n",
      "no. of days:31 days\n"
     ]
    }
   ],
   "source": [
    "print(\"list of months: january, february, march, april, may, june, july, august, september, octoer, november, december\")\n",
    "monthname=input(\"input the name of month:\")\n",
    "if monthname==\"february\":\n",
    "    print(\"no. of days:28/29 days\")\n",
    "elif monthname in(\"april\", \"june\", \"september\", \"november\"):\n",
    "    print(\"no. of days:30 days\")\n",
    "elif monthname in(\"january\", \"march\", \"may\", \"july\", \"august\", \"october\", \"december\"):\n",
    "    print(\"no. of days:31 days\")\n",
    "else:\n",
    "    print(\"wrong month name\")"
   ]
  },
  {
   "cell_type": "code",
   "execution_count": null,
   "metadata": {},
   "outputs": [],
   "source": [
    "list=[\"ishi\",\"watch\",\"phone\",\"1221\"]\n",
    "ctr=0\n",
    "for x in list:\n",
    "    if len(x)"
   ]
  }
 ],
 "metadata": {
  "kernelspec": {
   "display_name": "Python 3",
   "language": "python",
   "name": "python3"
  },
  "language_info": {
   "codemirror_mode": {
    "name": "ipython",
    "version": 3
   },
   "file_extension": ".py",
   "mimetype": "text/x-python",
   "name": "python",
   "nbconvert_exporter": "python",
   "pygments_lexer": "ipython3",
   "version": "3.8.3"
  }
 },
 "nbformat": 4,
 "nbformat_minor": 4
}
